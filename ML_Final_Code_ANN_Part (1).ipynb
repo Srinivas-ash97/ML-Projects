{
  "nbformat": 4,
  "nbformat_minor": 0,
  "metadata": {
    "colab": {
      "name": "ML Final Code ANN Part.ipynb",
      "provenance": [],
      "collapsed_sections": []
    },
    "kernelspec": {
      "name": "python3",
      "display_name": "Python 3"
    }
  },
  "cells": [
    {
      "cell_type": "code",
      "metadata": {
        "id": "5UmtbT5A7uJp",
        "colab_type": "code",
        "outputId": "5be6dd98-e1a9-4bbd-a187-5ba501b8322c",
        "colab": {
          "base_uri": "https://localhost:8080/",
          "height": 34
        }
      },
      "source": [
        "from google.colab import drive\n",
        "drive.mount('/content/drive')"
      ],
      "execution_count": 0,
      "outputs": [
        {
          "output_type": "stream",
          "text": [
            "Drive already mounted at /content/drive; to attempt to forcibly remount, call drive.mount(\"/content/drive\", force_remount=True).\n"
          ],
          "name": "stdout"
        }
      ]
    },
    {
      "cell_type": "markdown",
      "metadata": {
        "id": "NwsuBL9csPcE",
        "colab_type": "text"
      },
      "source": [
        "#Importing Neccessary Libraries"
      ]
    },
    {
      "cell_type": "markdown",
      "metadata": {
        "id": "ENK81cnmsPV3",
        "colab_type": "text"
      },
      "source": [
        ""
      ]
    },
    {
      "cell_type": "code",
      "metadata": {
        "id": "GpXaKhxsvBN0",
        "colab_type": "code",
        "outputId": "86009212-e4d4-480b-c002-f7b4e6353afb",
        "colab": {
          "base_uri": "https://localhost:8080/",
          "height": 87
        }
      },
      "source": [
        "import numpy as np\n",
        "import pandas as pd\n",
        "import math\n",
        "import os\n",
        "import seaborn as sn\n",
        "import glob\n",
        "from google.colab import drive\n",
        "from tensorflow import keras\n",
        "from sklearn.model_selection import train_test_split\n",
        "from tensorflow.keras.layers import BatchNormalization\n",
        "from tensorflow.keras.regularizers import l2\n",
        "from keras.models import Sequential\n",
        "from keras.layers import Dense, Conv1D, Conv2D, MaxPooling1D, MaxPooling2D, GlobalAveragePooling1D, Dropout, Flatten, AvgPool1D, AvgPool2D\n",
        "from tensorflow.keras.callbacks import EarlyStopping\n",
        "from tensorflow.keras.optimizers import SGD\n",
        "from tensorflow.keras.optimizers import RMSprop\n",
        "from keras import optimizers\n",
        "from sklearn.metrics import classification_report\n",
        "from sklearn.preprocessing import StandardScaler"
      ],
      "execution_count": 0,
      "outputs": [
        {
          "output_type": "stream",
          "text": [
            "/usr/local/lib/python3.6/dist-packages/statsmodels/tools/_testing.py:19: FutureWarning: pandas.util.testing is deprecated. Use the functions in the public API at pandas.testing instead.\n",
            "  import pandas.util.testing as tm\n",
            "Using TensorFlow backend.\n"
          ],
          "name": "stderr"
        }
      ]
    },
    {
      "cell_type": "markdown",
      "metadata": {
        "id": "O9HAGgTPsCNU",
        "colab_type": "text"
      },
      "source": [
        "#Pre-Processing of Data"
      ]
    },
    {
      "cell_type": "code",
      "metadata": {
        "id": "Oo2kO6NE8R90",
        "colab_type": "code",
        "colab": {}
      },
      "source": [
        "flight_data = pd.read_csv(r'/content/drive/My Drive/Ashwin/Machine Learning/Project/final dataset.csv')"
      ],
      "execution_count": 0,
      "outputs": []
    },
    {
      "cell_type": "code",
      "metadata": {
        "id": "hNXPkLt09CLk",
        "colab_type": "code",
        "outputId": "4d958a2a-5aee-4ab4-f641-c9ff7847a993",
        "colab": {
          "base_uri": "https://localhost:8080/",
          "height": 1000
        }
      },
      "source": [
        "flight_data.info()\n",
        "print(flight_data.shape)\n",
        "print(flight_data.columns)\n",
        "pd.isnull(flight_data).sum()"
      ],
      "execution_count": 0,
      "outputs": [
        {
          "output_type": "stream",
          "text": [
            "<class 'pandas.core.frame.DataFrame'>\n",
            "RangeIndex: 37731 entries, 0 to 37730\n",
            "Data columns (total 27 columns):\n",
            " #   Column                    Non-Null Count  Dtype  \n",
            "---  ------                    --------------  -----  \n",
            " 0   AIRLINE                   37731 non-null  object \n",
            " 1   FROM_JFK                  37731 non-null  object \n",
            " 2   TO JFK                    37731 non-null  object \n",
            " 3   SCHEDULED_DEPARTURE_TIME  37731 non-null  float64\n",
            " 4   FEDERAL_HOLIDAY           1132 non-null   float64\n",
            " 5   STATE_HOLIDAY             577 non-null    float64\n",
            " 6   WEEKEND                   16393 non-null  float64\n",
            " 7   LONG_WEEKEND              2050 non-null   float64\n",
            " 8   WIND_DIRECTION            37731 non-null  int64  \n",
            " 9   WIND SPEED                37731 non-null  int64  \n",
            " 10  ALTIMETER                 37731 non-null  float64\n",
            " 11  0.0slp                    37731 non-null  float64\n",
            " 12  t0.0pc                    37731 non-null  float64\n",
            " 13  VISIBILITY                37731 non-null  float64\n",
            " 14  DEPARTURE_TIME            37731 non-null  float64\n",
            " 15  SCHEDULED_ARRIVAL         37731 non-null  float64\n",
            " 16  ARRIVAL_TIME              37731 non-null  float64\n",
            " 17  SCHEDULED_TIME            37731 non-null  int64  \n",
            " 18  ELAPSED_TIME              37731 non-null  int64  \n",
            " 19  DEPARTURE_DELAY           37731 non-null  int64  \n",
            " 20  ARRIVAL_DELAY             37731 non-null  int64  \n",
            " 21  AIR_SYSTEM_DELAY          37731 non-null  int64  \n",
            " 22  SECURITY_DELAY            37731 non-null  int64  \n",
            " 23  AIRLINE_DELAY             37731 non-null  int64  \n",
            " 24  LATE_AIRCRAFT_DELAY       37731 non-null  int64  \n",
            " 25  WEATHER_DELAY             37731 non-null  int64  \n",
            " 26  CANCELLED                 37731 non-null  int64  \n",
            "dtypes: float64(12), int64(12), object(3)\n",
            "memory usage: 7.8+ MB\n",
            "(37731, 27)\n",
            "Index(['AIRLINE', 'FROM_JFK', 'TO JFK', 'SCHEDULED_DEPARTURE_TIME',\n",
            "       'FEDERAL_HOLIDAY', 'STATE_HOLIDAY', 'WEEKEND', 'LONG_WEEKEND',\n",
            "       'WIND_DIRECTION', 'WIND SPEED ', 'ALTIMETER', '0.0slp', 't0.0pc',\n",
            "       'VISIBILITY', 'DEPARTURE_TIME', 'SCHEDULED_ARRIVAL', 'ARRIVAL_TIME',\n",
            "       'SCHEDULED_TIME', 'ELAPSED_TIME', 'DEPARTURE_DELAY', 'ARRIVAL_DELAY',\n",
            "       'AIR_SYSTEM_DELAY', 'SECURITY_DELAY', 'AIRLINE_DELAY',\n",
            "       'LATE_AIRCRAFT_DELAY', 'WEATHER_DELAY', 'CANCELLED'],\n",
            "      dtype='object')\n"
          ],
          "name": "stdout"
        },
        {
          "output_type": "execute_result",
          "data": {
            "text/plain": [
              "AIRLINE                         0\n",
              "FROM_JFK                        0\n",
              "TO JFK                          0\n",
              "SCHEDULED_DEPARTURE_TIME        0\n",
              "FEDERAL_HOLIDAY             36599\n",
              "STATE_HOLIDAY               37154\n",
              "WEEKEND                     21338\n",
              "LONG_WEEKEND                35681\n",
              "WIND_DIRECTION                  0\n",
              "WIND SPEED                      0\n",
              "ALTIMETER                       0\n",
              "0.0slp                          0\n",
              "t0.0pc                          0\n",
              "VISIBILITY                      0\n",
              "DEPARTURE_TIME                  0\n",
              "SCHEDULED_ARRIVAL               0\n",
              "ARRIVAL_TIME                    0\n",
              "SCHEDULED_TIME                  0\n",
              "ELAPSED_TIME                    0\n",
              "DEPARTURE_DELAY                 0\n",
              "ARRIVAL_DELAY                   0\n",
              "AIR_SYSTEM_DELAY                0\n",
              "SECURITY_DELAY                  0\n",
              "AIRLINE_DELAY                   0\n",
              "LATE_AIRCRAFT_DELAY             0\n",
              "WEATHER_DELAY                   0\n",
              "CANCELLED                       0\n",
              "dtype: int64"
            ]
          },
          "metadata": {
            "tags": []
          },
          "execution_count": 4
        }
      ]
    },
    {
      "cell_type": "code",
      "metadata": {
        "id": "Oc18Q5NlpAot",
        "colab_type": "code",
        "colab": {}
      },
      "source": [
        "flight_data = flight_data.fillna(int(0))"
      ],
      "execution_count": 0,
      "outputs": []
    },
    {
      "cell_type": "code",
      "metadata": {
        "id": "ZQ34WjLW9WWi",
        "colab_type": "code",
        "colab": {}
      },
      "source": [
        "for i in range(flight_data.shape[0]):\n",
        "  code = str(flight_data.iloc[i, 1])\n",
        "  if code == 'JFK':\n",
        "    flight_data.iloc[i, 1] = int(1)\n",
        "  else:\n",
        "    flight_data.iloc[i, 1] = int(0)\n",
        "    \n",
        "for i in range(flight_data.shape[0]):\n",
        "  code = str(flight_data.iloc[i, 2])\n",
        "  if code == 'JFK':\n",
        "    flight_data.iloc[i, 2] = int(1)\n",
        "  else:\n",
        "    flight_data.iloc[i, 2] = int(0)"
      ],
      "execution_count": 0,
      "outputs": []
    },
    {
      "cell_type": "code",
      "metadata": {
        "id": "b7vBav8p-499",
        "colab_type": "code",
        "colab": {}
      },
      "source": [
        "dropesh = ['AIRLINE']\n",
        "flight_data = flight_data.drop(dropesh, axis = 1)\n"
      ],
      "execution_count": 0,
      "outputs": []
    },
    {
      "cell_type": "code",
      "metadata": {
        "id": "Bh7YXi8yAFcj",
        "colab_type": "code",
        "colab": {}
      },
      "source": [
        "flight_data[['FROM_JFK', 'TO JFK', 'FEDERAL_HOLIDAY', 'STATE_HOLIDAY', 'WEEKEND', 'LONG_WEEKEND']] = flight_data[['FROM_JFK', 'TO JFK', 'FEDERAL_HOLIDAY', 'STATE_HOLIDAY', 'WEEKEND', 'LONG_WEEKEND']].apply(pd.to_numeric)"
      ],
      "execution_count": 0,
      "outputs": []
    },
    {
      "cell_type": "code",
      "metadata": {
        "id": "uAg5A6ZXX6YM",
        "colab_type": "code",
        "colab": {}
      },
      "source": [
        "EARLY_DEPARTURE = []\n",
        "EARLY_ARRIVAL = []\n",
        "for col_no in range(18, 26):\n",
        "  for i in range(flight_data.shape[0]):\n",
        "    value = flight_data.iloc[i, col_no]\n",
        "    if value > 0:\n",
        "      flight_data.iloc[i, col_no] = int(1)\n",
        "      if col_no == 18:\n",
        "        EARLY_DEPARTURE.append(0)\n",
        "      elif col_no == 19:\n",
        "        EARLY_ARRIVAL.append(0)\n",
        "\n",
        "    else:\n",
        "      if col_no == 18:\n",
        "        EARLY_DEPARTURE.append(1)\n",
        "      elif col_no == 19:\n",
        "        EARLY_ARRIVAL.append(1)\n",
        "      flight_data.iloc[i, col_no] = int(0)\n",
        "flight_data[\"EARLY_DEPARTURE\"] = EARLY_DEPARTURE\n",
        "flight_data[\"EARLY_ARRIVAL\"] = EARLY_ARRIVAL"
      ],
      "execution_count": 0,
      "outputs": []
    },
    {
      "cell_type": "code",
      "metadata": {
        "id": "qHm8jFBr03IB",
        "colab_type": "code",
        "colab": {}
      },
      "source": [
        "#flight_data.to_csv(r'/content/drive/My Drive/Ashwin/Machine Learning/Project/data.csv')"
      ],
      "execution_count": 0,
      "outputs": []
    },
    {
      "cell_type": "code",
      "metadata": {
        "id": "LkSlx47sb2Ti",
        "colab_type": "code",
        "colab": {}
      },
      "source": [
        "test = flight_data.columns[18:]\n",
        "X = flight_data.copy(deep = True)\n",
        "X.shape\n",
        "X = X.drop(test,  axis = 1)\n",
        "Y = flight_data[test]\n",
        "Y = Y.drop([\"EARLY_ARRIVAL\", \"EARLY_DEPARTURE\"], axis = 1)"
      ],
      "execution_count": 0,
      "outputs": []
    },
    {
      "cell_type": "code",
      "metadata": {
        "id": "l-G3F_5Wmlqm",
        "colab_type": "code",
        "outputId": "bddca58e-0142-4bf3-a642-905b6375b21d",
        "colab": {
          "base_uri": "https://localhost:8080/",
          "height": 235
        }
      },
      "source": [
        "#Centralizing the Data Using Standard Scaler\n",
        "X = np.array(X)\n",
        "Y = np.array(Y)\n",
        "scaler = StandardScaler()\n",
        "scaler.fit(X)\n",
        "X = scaler.transform(X)\n",
        "X"
      ],
      "execution_count": 0,
      "outputs": [
        {
          "output_type": "execute_result",
          "data": {
            "text/plain": [
              "array([[-1.00039763,  1.00039763, -2.305589  , ..., -1.27045671,\n",
              "         0.10656148,  0.35580707],\n",
              "       [-1.00039763,  1.00039763, -1.59504119, ..., -1.02530409,\n",
              "        -1.24190594, -1.08928869],\n",
              "       [-1.00039763,  1.00039763, -1.59504119, ..., -1.06032589,\n",
              "        -1.26942568, -1.18279488],\n",
              "       ...,\n",
              "       [ 0.99960253, -0.99960253, -0.69501397, ..., -0.11473722,\n",
              "         1.57428112,  1.39287579],\n",
              "       [-1.00039763,  1.00039763, -0.69501397, ..., -0.35988984,\n",
              "        -1.23273269, -1.063787  ],\n",
              "       [ 0.99960253, -0.99960253, -0.69501397, ..., -0.00967181,\n",
              "         0.10656148,  0.10079017]])"
            ]
          },
          "metadata": {
            "tags": []
          },
          "execution_count": 12
        }
      ]
    },
    {
      "cell_type": "code",
      "metadata": {
        "id": "Ul0NW9LzltjV",
        "colab_type": "code",
        "colab": {}
      },
      "source": [
        "X_train, X_dev, Y_train, Y_dev = train_test_split(X, Y, test_size = 0.15, random_state =777)\n",
        "X_dev, X_test, Y_dev, Y_test = train_test_split(X_dev, Y_dev, test_size = 0.2, random_state = 777)"
      ],
      "execution_count": 0,
      "outputs": []
    },
    {
      "cell_type": "code",
      "metadata": {
        "id": "t6AoiZiGmyRZ",
        "colab_type": "code",
        "outputId": "6a11e654-02f7-42d8-8c6b-eb91fbd4b547",
        "colab": {
          "base_uri": "https://localhost:8080/",
          "height": 1000
        }
      },
      "source": [
        "Model1 = Sequential()\n",
        "Model1.add(Dense(60, input_dim = 18, kernel_regularizer=l2(1e-1), activation='relu'))\n",
        "Model1.add(Dense(180, kernel_regularizer=l2(1e-1), activation= 'relu'))\n",
        "Model1.add(Dense(320, kernel_regularizer=l2(1e-1), activation='relu'))\n",
        "Model1.add(Dropout(0.3))\n",
        "Model1.add(Dense(320, kernel_regularizer=l2(1e-1), activation='relu'))\n",
        "Model1.add(Dropout(0.3))\n",
        "Model1.add(Dense(160, kernel_regularizer=l2(1e-1), activation='relu'))\n",
        "Model1.add(Dense(80, kernel_regularizer=l2(1e-1), activation='relu'))\n",
        "Model1.add(Dense(40, kernel_regularizer=l2(1e-1), activation='relu'))\n",
        "Model1.add(Dropout(0.3))\n",
        "Model1.add(Dense(20, kernel_regularizer=l2(1e-1), activation='relu'))\n",
        "Model1.add(Dense(18, kernel_regularizer=l2(1e-1), activation= 'relu'))\n",
        "Model1.add(Dense(14, kernel_regularizer=l2(1e-1),  activation='relu'))\n",
        "Model1.add(Dense(12, kernel_regularizer=l2(1e-1),  activation='relu'))\n",
        "Model1.add(Dense(8, kernel_regularizer=l2(1e-1),  activation='sigmoid'))\n",
        "\n",
        "#RMS_prop = RMSprop(learning_rate=0.001, rho=0.9, momentum=0.09, epsilon=1e-07, centered=False)\n",
        "sgd = SGD(lr = 0.00001, momentum = 0.009 ,clipvalue = 5, nesterov = True)\n",
        "#adam = keras.optimizers.Adam(learning_rate = 0.00001, beta_1=0.09, beta_2=0.099, amsgrad = False)\n",
        "Model1.compile(loss= 'binary_crossentropy', optimizer = sgd, metrics=['accuracy'])\n",
        "es = EarlyStopping(monitor='val_loss',mode='min')\n",
        "history1 = Model1.fit(X_train, Y_train, epochs = 50, validation_data = (X_dev, Y_dev), verbose = 2, callbacks = [es])"
      ],
      "execution_count": 0,
      "outputs": [
        {
          "output_type": "stream",
          "text": [
            "Train on 32071 samples, validate on 4528 samples\n",
            "Epoch 1/50\n",
            " - 5s - loss: 113.2663 - accuracy: 0.4445 - val_loss: 113.0364 - val_accuracy: 0.4400\n",
            "Epoch 2/50\n",
            " - 5s - loss: 112.8109 - accuracy: 0.4602 - val_loss: 112.5819 - val_accuracy: 0.4636\n",
            "Epoch 3/50\n",
            " - 5s - loss: 112.3574 - accuracy: 0.4757 - val_loss: 112.1293 - val_accuracy: 0.4965\n",
            "Epoch 4/50\n",
            " - 5s - loss: 111.9057 - accuracy: 0.4944 - val_loss: 111.6786 - val_accuracy: 0.5316\n",
            "Epoch 5/50\n",
            " - 5s - loss: 111.4559 - accuracy: 0.5133 - val_loss: 111.2297 - val_accuracy: 0.5615\n",
            "Epoch 6/50\n",
            " - 5s - loss: 111.0079 - accuracy: 0.5311 - val_loss: 110.7827 - val_accuracy: 0.5865\n",
            "Epoch 7/50\n",
            " - 5s - loss: 110.5618 - accuracy: 0.5496 - val_loss: 110.3376 - val_accuracy: 0.6121\n",
            "Epoch 8/50\n",
            " - 5s - loss: 110.1175 - accuracy: 0.5657 - val_loss: 109.8943 - val_accuracy: 0.6378\n",
            "Epoch 9/50\n",
            " - 5s - loss: 109.6750 - accuracy: 0.5807 - val_loss: 109.4528 - val_accuracy: 0.6577\n",
            "Epoch 10/50\n",
            " - 5s - loss: 109.2344 - accuracy: 0.5964 - val_loss: 109.0132 - val_accuracy: 0.6792\n",
            "Epoch 11/50\n",
            " - 5s - loss: 108.7956 - accuracy: 0.6114 - val_loss: 108.5754 - val_accuracy: 0.7000\n",
            "Epoch 12/50\n",
            " - 5s - loss: 108.3586 - accuracy: 0.6236 - val_loss: 108.1393 - val_accuracy: 0.7225\n",
            "Epoch 13/50\n",
            " - 5s - loss: 107.9233 - accuracy: 0.6383 - val_loss: 107.7051 - val_accuracy: 0.7416\n",
            "Epoch 14/50\n",
            " - 5s - loss: 107.4899 - accuracy: 0.6512 - val_loss: 107.2726 - val_accuracy: 0.7578\n",
            "Epoch 15/50\n",
            " - 5s - loss: 107.0582 - accuracy: 0.6622 - val_loss: 106.8419 - val_accuracy: 0.7706\n",
            "Epoch 16/50\n",
            " - 5s - loss: 106.6283 - accuracy: 0.6744 - val_loss: 106.4129 - val_accuracy: 0.7806\n",
            "Epoch 17/50\n",
            " - 5s - loss: 106.2001 - accuracy: 0.6871 - val_loss: 105.9856 - val_accuracy: 0.7899\n",
            "Epoch 18/50\n",
            " - 5s - loss: 105.7737 - accuracy: 0.6986 - val_loss: 105.5601 - val_accuracy: 0.7974\n",
            "Epoch 19/50\n",
            " - 5s - loss: 105.3490 - accuracy: 0.7104 - val_loss: 105.1363 - val_accuracy: 0.8027\n",
            "Epoch 20/50\n",
            " - 5s - loss: 104.9259 - accuracy: 0.7223 - val_loss: 104.7142 - val_accuracy: 0.8076\n",
            "Epoch 21/50\n",
            " - 5s - loss: 104.5047 - accuracy: 0.7315 - val_loss: 104.2938 - val_accuracy: 0.8115\n",
            "Epoch 22/50\n",
            " - 5s - loss: 104.0851 - accuracy: 0.7409 - val_loss: 103.8751 - val_accuracy: 0.8141\n",
            "Epoch 23/50\n",
            " - 5s - loss: 103.6672 - accuracy: 0.7491 - val_loss: 103.4581 - val_accuracy: 0.8165\n",
            "Epoch 24/50\n",
            " - 5s - loss: 103.2510 - accuracy: 0.7577 - val_loss: 103.0428 - val_accuracy: 0.8187\n",
            "Epoch 25/50\n",
            " - 5s - loss: 102.8365 - accuracy: 0.7651 - val_loss: 102.6291 - val_accuracy: 0.8209\n",
            "Epoch 26/50\n",
            " - 5s - loss: 102.4236 - accuracy: 0.7717 - val_loss: 102.2172 - val_accuracy: 0.8220\n",
            "Epoch 27/50\n",
            " - 5s - loss: 102.0124 - accuracy: 0.7786 - val_loss: 101.8069 - val_accuracy: 0.8234\n",
            "Epoch 28/50\n",
            " - 5s - loss: 101.6030 - accuracy: 0.7836 - val_loss: 101.3982 - val_accuracy: 0.8245\n",
            "Epoch 29/50\n",
            " - 5s - loss: 101.1951 - accuracy: 0.7889 - val_loss: 100.9912 - val_accuracy: 0.8251\n",
            "Epoch 30/50\n",
            " - 5s - loss: 100.7890 - accuracy: 0.7939 - val_loss: 100.5859 - val_accuracy: 0.8254\n",
            "Epoch 31/50\n",
            " - 5s - loss: 100.3845 - accuracy: 0.7978 - val_loss: 100.1823 - val_accuracy: 0.8257\n",
            "Epoch 32/50\n",
            " - 5s - loss: 99.9816 - accuracy: 0.8012 - val_loss: 99.7802 - val_accuracy: 0.8258\n",
            "Epoch 33/50\n",
            " - 5s - loss: 99.5804 - accuracy: 0.8051 - val_loss: 99.3798 - val_accuracy: 0.8261\n",
            "Epoch 34/50\n",
            " - 5s - loss: 99.1808 - accuracy: 0.8074 - val_loss: 98.9810 - val_accuracy: 0.8264\n",
            "Epoch 35/50\n",
            " - 5s - loss: 98.7828 - accuracy: 0.8094 - val_loss: 98.5839 - val_accuracy: 0.8266\n",
            "Epoch 36/50\n",
            " - 5s - loss: 98.3864 - accuracy: 0.8119 - val_loss: 98.1883 - val_accuracy: 0.8266\n",
            "Epoch 37/50\n",
            " - 5s - loss: 97.9916 - accuracy: 0.8141 - val_loss: 97.7943 - val_accuracy: 0.8267\n",
            "Epoch 38/50\n",
            " - 5s - loss: 97.5984 - accuracy: 0.8156 - val_loss: 97.4019 - val_accuracy: 0.8266\n",
            "Epoch 39/50\n",
            " - 5s - loss: 97.2067 - accuracy: 0.8171 - val_loss: 97.0110 - val_accuracy: 0.8266\n",
            "Epoch 40/50\n",
            " - 5s - loss: 96.8167 - accuracy: 0.8182 - val_loss: 96.6218 - val_accuracy: 0.8266\n",
            "Epoch 41/50\n",
            " - 5s - loss: 96.4282 - accuracy: 0.8194 - val_loss: 96.2341 - val_accuracy: 0.8266\n",
            "Epoch 42/50\n",
            " - 5s - loss: 96.0413 - accuracy: 0.8197 - val_loss: 95.8480 - val_accuracy: 0.8267\n",
            "Epoch 43/50\n",
            " - 5s - loss: 95.6559 - accuracy: 0.8207 - val_loss: 95.4634 - val_accuracy: 0.8267\n",
            "Epoch 44/50\n",
            " - 5s - loss: 95.2721 - accuracy: 0.8217 - val_loss: 95.0804 - val_accuracy: 0.8267\n",
            "Epoch 45/50\n",
            " - 5s - loss: 94.8899 - accuracy: 0.8222 - val_loss: 94.6990 - val_accuracy: 0.8267\n",
            "Epoch 46/50\n",
            " - 5s - loss: 94.5092 - accuracy: 0.8229 - val_loss: 94.3191 - val_accuracy: 0.8267\n",
            "Epoch 47/50\n",
            " - 5s - loss: 94.1301 - accuracy: 0.8231 - val_loss: 93.9407 - val_accuracy: 0.8266\n",
            "Epoch 48/50\n",
            " - 5s - loss: 93.7526 - accuracy: 0.8235 - val_loss: 93.5639 - val_accuracy: 0.8266\n",
            "Epoch 49/50\n",
            " - 5s - loss: 93.3765 - accuracy: 0.8237 - val_loss: 93.1886 - val_accuracy: 0.8266\n",
            "Epoch 50/50\n",
            " - 5s - loss: 93.0020 - accuracy: 0.8240 - val_loss: 92.8149 - val_accuracy: 0.8266\n"
          ],
          "name": "stdout"
        }
      ]
    },
    {
      "cell_type": "code",
      "metadata": {
        "id": "uPsvyUTaq3uL",
        "colab_type": "code",
        "outputId": "971a1b24-6696-4ef8-93e9-ad7a98f5b80d",
        "colab": {
          "base_uri": "https://localhost:8080/",
          "height": 50
        }
      },
      "source": [
        "_, tacc = Model1.evaluate(X_test, Y_test)\n",
        "print(\"Test Accuracy is: \" + str(tacc * 100)+ str(\"%\"))\n"
      ],
      "execution_count": 0,
      "outputs": [
        {
          "output_type": "stream",
          "text": [
            "1132/1132 [==============================] - 0s 49us/step\n",
            "Test Accuracy is: 82.38736987113953%\n"
          ],
          "name": "stdout"
        }
      ]
    },
    {
      "cell_type": "code",
      "metadata": {
        "id": "CtYHsuZ0zTu8",
        "colab_type": "code",
        "outputId": "be2e9af0-c988-4544-e605-2d5229127901",
        "colab": {
          "base_uri": "https://localhost:8080/",
          "height": 101
        }
      },
      "source": [
        "Model2 = Sequential()\n",
        "Model2.add(Dense(60, input_dim = 18, kernel_regularizer=l2(1e-1), activation='relu'))\n",
        "Model2.add(Dense(180, kernel_regularizer=l2(1e-1), activation= 'relu'))\n",
        "Model2.add(Dense(320, kernel_regularizer=l2(1e-1), activation='relu'))\n",
        "Model2.add(Dropout(0.3))\n",
        "Model2.add(Dense(320, kernel_regularizer=l2(1e-1), activation='relu'))\n",
        "Model2.add(Dropout(0.3))\n",
        "Model2.add(Dense(160, kernel_regularizer=l2(1e-1), activation='relu'))\n",
        "Model2.add(Dense(80, kernel_regularizer=l2(1e-1), activation='relu'))\n",
        "Model2.add(Dense(40, kernel_regularizer=l2(1e-1), activation='relu'))\n",
        "Model2.add(Dropout(0.3))\n",
        "Model2.add(Dense(20, kernel_regularizer=l2(1e-1), activation='relu'))\n",
        "Model2.add(Dense(18, kernel_regularizer=l2(1e-1), activation= 'relu'))\n",
        "Model2.add(Dense(14, kernel_regularizer=l2(1e-1),  activation='relu'))\n",
        "Model2.add(Dense(12, kernel_regularizer=l2(1e-1),  activation='relu'))\n",
        "Model2.add(Dense(8, kernel_regularizer=l2(1e-1),  activation='sigmoid'))\n",
        "\n",
        "#RMS_prop = RMSprop(learning_rate=0.001, rho=0.9, momentum=0.09, epsilon=1e-07, centered=False)\n",
        "#sgd = SGD(lr = 0.00001, momentum = 0.009 ,clipvalue = 5, nesterov = True)\n",
        "adam = keras.optimizers.Adam(learning_rate = 0.01, beta_1=0.09, beta_2=0.999, amsgrad = False)\n",
        "Model2.compile(loss= 'binary_crossentropy', optimizer = adam, metrics=['accuracy'])\n",
        "es = EarlyStopping(monitor='val_loss',mode='min')\n",
        "history2 = Model2.fit(X_train, Y_train, epochs = 5, validation_data = (X_dev, Y_dev), verbose = 2, callbacks = [es])"
      ],
      "execution_count": 0,
      "outputs": [
        {
          "output_type": "stream",
          "text": [
            "Train on 32071 samples, validate on 4528 samples\n",
            "Epoch 1/5\n",
            " - 5s - loss: 1.1492 - accuracy: 0.8244 - val_loss: 0.6052 - val_accuracy: 0.8266\n",
            "Epoch 2/5\n",
            " - 5s - loss: 0.6518 - accuracy: 0.8254 - val_loss: 0.6693 - val_accuracy: 0.8266\n"
          ],
          "name": "stdout"
        }
      ]
    },
    {
      "cell_type": "code",
      "metadata": {
        "id": "A-stBV2K0A0F",
        "colab_type": "code",
        "outputId": "fd77af2a-5aa8-4e67-c758-64b89ab8fa28",
        "colab": {
          "base_uri": "https://localhost:8080/",
          "height": 50
        }
      },
      "source": [
        "_, tacc = Model2.evaluate(X_test, Y_test)\n",
        "print(\"Test Accuracy is: \" + str(tacc * 100)+ str(\"%\"))"
      ],
      "execution_count": 0,
      "outputs": [
        {
          "output_type": "stream",
          "text": [
            "1132/1132 [==============================] - 0s 44us/step\n",
            "Test Accuracy is: 82.37632513046265%\n"
          ],
          "name": "stdout"
        }
      ]
    },
    {
      "cell_type": "code",
      "metadata": {
        "id": "RuOBrWjvss1M",
        "colab_type": "code",
        "colab": {}
      },
      "source": [
        "data  = pd.read_csv(r'/content/drive/My Drive/Ashwin/Machine Learning/Project/data.csv')\n",
        "data = data.drop(['Unnamed: 0'], axis = 1)\n",
        "delay_labels = data.columns[18:]\n",
        "delay_data = data[delay_labels]\n",
        "data1 = delay_data.corr(method = 'pearson')\n",
        "data2 = data[['FEDERAL_HOLIDAY',\n",
        "       'STATE_HOLIDAY', 'WEEKEND', 'LONG_WEEKEND', 'DEPARTURE_DELAY', 'ARRIVAL_DELAY', 'AIR_SYSTEM_DELAY',\n",
        "       'SECURITY_DELAY', 'AIRLINE_DELAY', 'LATE_AIRCRAFT_DELAY']]"
      ],
      "execution_count": 0,
      "outputs": []
    },
    {
      "cell_type": "code",
      "metadata": {
        "id": "HY01N6O8s4JT",
        "colab_type": "code",
        "outputId": "972c61e3-333a-44ba-da10-16827d77057c",
        "colab": {
          "base_uri": "https://localhost:8080/",
          "height": 390
        }
      },
      "source": [
        "sn.heatmap(data1)"
      ],
      "execution_count": 0,
      "outputs": [
        {
          "output_type": "execute_result",
          "data": {
            "text/plain": [
              "<matplotlib.axes._subplots.AxesSubplot at 0x7f8316dabc88>"
            ]
          },
          "metadata": {
            "tags": []
          },
          "execution_count": 39
        },
        {
          "output_type": "display_data",
          "data": {
            "image/png": "[encoded data removed]",
            "text/plain": [
              "<Figure size 432x288 with 2 Axes>"
            ]
          },
          "metadata": {
            "tags": [],
            "needs_background": "light"
          }
        }
      ]
    },
    {
      "cell_type": "code",
      "metadata": {
        "id": "X7piMLfysxgh",
        "colab_type": "code",
        "outputId": "4f1716ed-110a-4f88-beed-d8bacebbb26a",
        "colab": {
          "base_uri": "https://localhost:8080/",
          "height": 386
        }
      },
      "source": [
        "df = pd.DataFrame(data2.corr(method = 'pearson'))\n",
        "sn.heatmap(df[df.columns[4:]][0:4])"
      ],
      "execution_count": 0,
      "outputs": [
        {
          "output_type": "execute_result",
          "data": {
            "text/plain": [
              "<matplotlib.axes._subplots.AxesSubplot at 0x7f8317071320>"
            ]
          },
          "metadata": {
            "tags": []
          },
          "execution_count": 38
        },
        {
          "output_type": "display_data",
          "data": {
            "image/png": "[encoded data removed]",
            "text/plain": [
              "<Figure size 432x288 with 2 Axes>"
            ]
          },
          "metadata": {
            "tags": [],
            "needs_background": "light"
          }
        }
      ]
    }
  ]
}